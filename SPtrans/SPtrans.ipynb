{
 "cells": [
  {
   "cell_type": "markdown",
   "metadata": {
    "collapsed": true,
    "pycharm": {
     "name": "#%% md\n"
    }
   },
   "source": [
    "# SPTrans: Mobilidade urbana durante o coronavírus"
   ]
  },
  {
   "cell_type": "code",
   "execution_count": 7,
   "outputs": [],
   "source": [
    "import os\n",
    "import numpy as np\n",
    "import html.parser\n",
    "import urllib.request\n",
    "import dateutil.parser\n",
    "from datetime import date, datetime\n",
    "from dateutil.relativedelta import relativedelta\n",
    "import matplotlib.pyplot as plt\n",
    "from matplotlib.patches import Polygon\n",
    "import pandas as pd\n",
    "from datetime import datetime as dt\n",
    "\n",
    "\n",
    "rdates = pd.date_range(start = '01/01/2018', end = '12/31/2020', freq = 'd')\n",
    "\n",
    "tb = pd.read_excel(r'C:\\Users\\gusta\\Documents\\Projetos\\SPtrans\\sptrans.xlsx', parse_date = 'date')\n",
    "\n",
    "tb = tb.pivot_table(index = tb.date.dt.year, columns = [tb.date.dt.month, tb.date.dt.day], values = 'total_passengers')\\\n",
    "        .pct_change().reset_index().melt(id_vars = 'date')\\\n",
    "        .dropna()\\\n",
    "        .assign(date = lambda x: (x.date.astype(str) + '-' +  x.variable_0.astype(str) + '-' + x.variable_1.astype(str)).apply(dt.strptime, args = ('%Y-%m-%d',)))\\\n",
    "        .merge(pd.DataFrame({'date':rdates}), on = 'date', how = 'outer')\\\n",
    "        .drop(['variable_0', 'variable_1'], axis = 1)\\\n",
    "        .rename(columns = {'value':'pc_change_yoy'})\\\n",
    "        .sort_values('date')\n",
    "\n",
    "total = pd.read_excel(r'C:\\Users\\gusta\\Documents\\Projetos\\SPtrans\\sptrans.xlsx', parse_date = 'date')\\\n",
    "          .filter(['date', 'pc_change_yoy'])\\\n",
    "          .dropna()\\\n",
    "          .merge(pd.DataFrame({'date':rdates}), on = 'date', how = 'outer')\\\n",
    "          .sort_values('date')"
   ],
   "metadata": {
    "collapsed": false,
    "pycharm": {
     "name": "#%%\n",
     "is_executing": false
    }
   }
  },
  {
   "cell_type": "code",
   "execution_count": 8,
   "outputs": [
    {
     "data": {
      "text/plain": "<Figure size 800x750 with 2 Axes>",
      "image/png": "[encoded data removed]"
     },
     "metadata": {
      "needs_background": "light"
     },
     "output_type": "display_data"
    }
   ],
   "source": [
    "def calmap(ax, year, data, origin=\"upper\", weekstart=\"sun\"):\n",
    "    ax.tick_params('x', length=0, labelsize=\"medium\", which='major')\n",
    "    ax.tick_params('y', length=0, labelsize=\"x-small\", which='major')\n",
    "\n",
    "    # Month borders\n",
    "    xticks, labels = [], []\n",
    "\n",
    "    start = datetime(year, 1, 1).weekday()\n",
    "\n",
    "    _data = np.zeros(7 * 53) * np.nan\n",
    "    _data[start:start + len(data)] = data\n",
    "    data = _data.reshape(53, 7).T\n",
    "\n",
    "    for month in range(1, 13):\n",
    "        first = datetime(year, month, 1)\n",
    "        last = first + relativedelta(months=1, days=-1)\n",
    "        if origin == \"lower\":\n",
    "            y0 = first.weekday()\n",
    "            y1 = last.weekday()\n",
    "            x0 = (int(first.strftime(\"%j\")) + start - 1) // 7\n",
    "            x1 = (int(last.strftime(\"%j\")) + start - 1) // 7\n",
    "            P = [(x0, y0), (x0, 7), (x1, 7), (x1, y1 + 1),\n",
    "                 (x1 + 1, y1 + 1), (x1 + 1, 0), (x0 + 1, 0), (x0 + 1, y0)]\n",
    "        else:\n",
    "            y0 = 6 - first.weekday()\n",
    "            y1 = 6 - last.weekday()\n",
    "            x0 = (int(first.strftime(\"%j\")) + start - 1) // 7\n",
    "            x1 = (int(last.strftime(\"%j\")) + start - 1) // 7\n",
    "            P = [(x0, y0 + 1), (x0, 0), (x1, 0), (x1, y1),\n",
    "                 (x1 + 1, y1), (x1 + 1, 7), (x0 + 1, 7), (x0 + 1, y0 + 1)]\n",
    "\n",
    "        xticks.append(x0 + (x1 - x0 + 1) / 2)\n",
    "        labels.append(first.strftime(\"%b\"))\n",
    "        poly = Polygon(P, edgecolor=\"black\", facecolor=\"None\",\n",
    "                       linewidth=1, zorder=20, clip_on=False)\n",
    "        ax.add_artist(poly)\n",
    "\n",
    "    ax.set_xticks(xticks)\n",
    "    ax.set_xticklabels(labels)\n",
    "    ax.set_yticks(0.5 + np.arange(7))\n",
    "\n",
    "    labels = [\"Mon\", \"Tue\", \"Wed\", \"Thu\", \"Fri\", \"Sat\", \"Sun\"]\n",
    "    if origin == \"upper\": labels = labels[::-1]\n",
    "    ax.set_yticklabels(labels)\n",
    "    ax.set_title(\"{}\".format(year), size=\"medium\", weight=\"bold\")\n",
    "\n",
    "    # Showing data\n",
    "    cmap = plt.cm.get_cmap('coolwarm_r')\n",
    "    ax.imshow(data, extent=[0, 53, 0, 7], zorder=10,\n",
    "              vmin=-1, vmax=1, cmap=cmap, origin=origin)\n",
    "\n",
    "fig = plt.figure(figsize=(8, 7.5), dpi=100)\n",
    "year = 2019\n",
    "n = 2\n",
    "for i in range(n):\n",
    "    ax = plt.subplot(n, 1, i + 1, xlim=[0, 53], ylim=[0, 7], frameon=False, aspect=1)\n",
    "    calmap(ax, year + i, (total.query(f'date.dt.year == {year + i}').pc_change_yoy.values), origin=\"upper\")\n",
    "\n",
    "plt.tight_layout()\n",
    "plt.savefig(r\"C:\\Users\\gusta\\Documents\\Projetos\\SPtrans\\sptrans.svg\", dpi=300, transparent = True, format = 'svg')\n",
    "# plt.colorbar()\n",
    "plt.show()"
   ],
   "metadata": {
    "collapsed": false,
    "pycharm": {
     "name": "#%%\n",
     "is_executing": false
    }
   }
  },
  {
   "cell_type": "code",
   "execution_count": 9,
   "outputs": [
    {
     "data": {
      "text/plain": "<Figure size 432x72 with 1 Axes>",
      "image/png": "[encoded data removed]"
     },
     "metadata": {
      "needs_background": "light"
     },
     "output_type": "display_data"
    }
   ],
   "source": [
    "# ================================================================================================================================\n",
    "# # Colormap\n",
    "# ================================================================================================================================\n",
    "\n",
    "import matplotlib.pyplot as plt\n",
    "import matplotlib as mpl\n",
    "\n",
    "fig, ax = plt.subplots(figsize=(6, 1))\n",
    "fig.subplots_adjust(bottom=0.5)\n",
    "\n",
    "cmap = plt.cm.get_cmap('coolwarm_r')\n",
    "norm = mpl.colors.Normalize(vmin=-100, vmax=100)\n",
    "\n",
    "fig.colorbar(mpl.cm.ScalarMappable(norm=norm, cmap=cmap),\n",
    "             cax=ax, orientation='horizontal', label='Variação Diária, %YoY')\n",
    "\n",
    "plt.savefig(r\"C:\\Users\\gusta\\Downloads\\Macro\\colorbar.svg\", dpi=300, transparent = True, format = 'svg')\n",
    "plt.show()\n",
    "\n",
    "\n",
    "\n",
    "\n",
    "\n"
   ],
   "metadata": {
    "collapsed": false,
    "pycharm": {
     "name": "#%%\n",
     "is_executing": false
    }
   }
  }
 ],
 "metadata": {
  "kernelspec": {
   "display_name": "Python 3",
   "language": "python",
   "name": "python3"
  },
  "language_info": {
   "codemirror_mode": {
    "name": "ipython",
    "version": 2
   },
   "file_extension": ".py",
   "mimetype": "text/x-python",
   "name": "python",
   "nbconvert_exporter": "python",
   "pygments_lexer": "ipython2",
   "version": "2.7.6"
  },
  "pycharm": {
   "stem_cell": {
    "cell_type": "raw",
    "source": [],
    "metadata": {
     "collapsed": false
    }
   }
  }
 },
 "nbformat": 4,
 "nbformat_minor": 0
}